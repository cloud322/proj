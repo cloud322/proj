{
 "cells": [
  {
   "cell_type": "code",
   "execution_count": 4,
   "metadata": {},
   "outputs": [
    {
     "data": {
      "text/plain": [
       "'1.6.0'"
      ]
     },
     "execution_count": 5,
     "metadata": {},
     "output_type": "execute_result"
    }
   ],
   "source": [
    "import sys\n",
    "import tensorflow as tf\n",
    "import pandas as pd\n",
    "import numpy as np\n",
    "import os\n",
    "import matplotlib\n",
    "import matplotlib.pyplot as plt\n",
    "import random\n",
    "%matplotlib inline\n",
    "import tensorflow as tf\n",
    "import tensorflow.contrib.learn as tflearn\n",
    "import tensorflow.contrib.layers as tflayers\n",
    "from tensorflow.contrib.learn import learn_runner\n",
    "import tensorflow.contrib.metrics as metrics\n",
    "import tensorflow.contrib.rnn as rnn\n"
   ]
  },
  {
   "cell_type": "code",
   "execution_count": 5,
   "metadata": {},
   "outputs": [
    {
     "data": {
      "text/plain": [
       "'1.6.0'"
      ]
     },
     "execution_count": 5,
     "metadata": {},
     "output_type": "execute_result"
    }
   ],
   "source": [
    "tf.__version__\n"
   ]
  },
  {
   "cell_type": "code",
   "execution_count": 7,
   "metadata": {},
   "outputs": [
    {
     "name": "stdout",
     "output_type": "stream",
     "text": [
      "                         date  a stock   time    price  price_ch  vol_ch   vol\n0  2018-04-03 08:52:27.877289  예  삼성전자  85232  2400000    -27000      62  2666\n1  2018-04-03 08:53:26.995767  예  삼성전자  85332  2400000    -27000     -17  2649\n2  2018-04-03 08:54:32.248435  예  삼성전자  85432  2400000    -27000     -21  2628\n3  2018-04-03 08:55:30.998705  예  삼성전자  85532  2391000    -36000    1721  4349\n4  2018-04-03 08:56:32.936148  예  삼성전자  85632  2395000    -32000    -149  4200\n"
     ]
    }
   ],
   "source": [
    "df_0403_m= pd.read_csv('data/0403_samsung_min_U.csv',header=0)\n",
    "\n",
    "print(df_0403_m.head())\n",
    "sam_0403_m = df_0403_m.query('stock==\"삼성전자\"')\n",
    "sort_0403_m=sam_0403_m.sort_values(by=['date','price'])\n",
    "partcol_0403_m =sam_0403_m[['date','price']]\n"
   ]
  },
  {
   "cell_type": "code",
   "execution_count": 8,
   "metadata": {
    "collapsed": true
   },
   "outputs": [
    {
     "name": "stdout",
     "output_type": "stream",
     "text": [
      "                          date    price\n8   2018-04-03 09:00:32.817893  2393000\n9   2018-04-03 09:01:31.570204  2405000\n10   2018-04-03 09:02:32.58903  2398000\n11  2018-04-03 09:03:33.060493  2404000\n12  2018-04-03 09:04:32.957566  2400000\n"
     ]
    }
   ],
   "source": [
    "# query\n",
    "partcol_0403_m_09 = partcol_0403_m.query('date>=\"2018-04-03 09:00:00\" & date<=\"2018-04-03 15:21:00\"')\n",
    "print(partcol_0403_m_09.head())"
   ]
  },
  {
   "cell_type": "code",
   "execution_count": 10,
   "metadata": {
    "collapsed": true
   },
   "outputs": [
    {
     "data": {
      "image/png": "[encoded data removed]",
      "text/plain": [
       "<Figure size 432x288 with 1 Axes>"
      ]
     },
     "metadata": {},
     "output_type": "display_data"
    }
   ],
   "source": [
    "#plot\n",
    "partcol_0403_m_09.plot(x='date',y='price',title = 'samsung')\n",
    "plt.show()\n"
   ]
  },
  {
   "cell_type": "code",
   "execution_count": 11,
   "metadata": {
    "collapsed": true
   },
   "outputs": [
    {
     "name": "stdout",
     "output_type": "stream",
     "text": [
      "381\ndate\n2018-04-03 09:00:32.817893    2393000\n2018-04-03 09:01:31.570204    2405000\n2018-04-03 09:02:32.58903     2398000\n2018-04-03 09:03:33.060493    2404000\n2018-04-03 09:04:32.957566    2400000\n2018-04-03 09:05:33.450041    2395000\n2018-04-03 09:06:32.620631    2395000\n2018-04-03 09:07:33.266207    2395000\n2018-04-03 09:08:33.18964     2394000\n2018-04-03 09:09:33.321873    2392000\n2018-04-03 09:10:32.261308    2397000\n2018-04-03 09:11:32.689739    2398000\n2018-04-03 09:12:33.184218    2400000\n2018-04-03 09:13:32.512911    2400000\n2018-04-03 09:14:31.565423    2397000\n2018-04-03 09:15:33.308737    2398000\n2018-04-03 09:16:33.31188     2398000\n2018-04-03 09:17:30.620226    2398000\n2018-04-03 09:18:31.69709     2397000\n2018-04-03 09:19:32.526792    2395000\n2018-04-03 09:20:33.250419    2394000\n2018-04-03 09:21:33.135486    2392000\n2018-04-03 09:22:32.396136    2392000\n2018-04-03 09:23:33.3209      2391000\n2018-04-03 09:24:33.014841    2386000\n2018-04-03 09:25:33.258148    2383000\n2018-04-03 09:26:32.878039    2383000\n2018-04-03 09:27:32.813139    2382000\n2018-04-03 09:28:33.30964     2382000\n2018-04-03 09:29:33.003555    2377000\n                               ...   \n2018-04-03 14:51:33.379033    2401000\n2018-04-03 14:52:33.015847    2399000\n2018-04-03 14:53:32.64595     2400000\n2018-04-03 14:54:32.957832    2398000\n2018-04-03 14:55:30.54775     2400000\n2018-04-03 14:56:32.616277    2398000\n2018-04-03 14:57:32.589403    2395000\n2018-04-03 14:58:31.924104    2394000\n2018-04-03 14:59:32.496632    2393000\n2018-04-03 15:00:29.303267    2391000\n2018-04-03 15:01:32.014225    2391000\n2018-04-03 15:02:31.011699    2393000\n2018-04-03 15:03:32.902961    2393000\n2018-04-03 15:04:32.991638    2392000\n2018-04-03 15:05:30.527133    2391000\n2018-04-03 15:06:33.291257    2389000\n2018-04-03 15:07:32.955919    2391000\n2018-04-03 15:08:32.519739    2391000\n2018-04-03 15:09:31.519067    2391000\n2018-04-03 15:10:32.726291    2392000\n2018-04-03 15:11:33.338953    2395000\n2018-04-03 15:12:31.952278    2392000\n2018-04-03 15:13:31.511005    2392000\n2018-04-03 15:14:32.937179    2395000\n2018-04-03 15:15:32.51116     2394000\n2018-04-03 15:16:33.205915    2396000\n2018-04-03 15:17:32.881847    2397000\n2018-04-03 15:18:31.467529    2399000\n2018-04-03 15:19:32.782335    2398000\n2018-04-03 15:20:32.739451    2427000\nLength: 381, dtype: int64\n"
     ]
    }
   ],
   "source": [
    "\n",
    "print(len(partcol_0403_m_09))\n",
    "ts =pd.Series(partcol_0403_m_09['price'].values, index=partcol_0403_m_09['date'])\n",
    "print(ts)"
   ]
  },
  {
   "cell_type": "code",
   "execution_count": 12,
   "metadata": {
    "collapsed": true
   },
   "outputs": [
    {
     "name": "stdout",
     "output_type": "stream",
     "text": [
      "19\n(19, 20, 1)\n[[[2393000]\n  [2405000]\n  [2398000]\n  [2404000]\n  [2400000]\n  [2395000]\n  [2395000]\n  [2395000]\n  [2394000]\n  [2392000]\n  [2397000]\n  [2398000]\n  [2400000]\n  [2400000]\n  [2397000]\n  [2398000]\n  [2398000]\n  [2398000]\n  [2397000]\n  [2395000]]\n\n [[2394000]\n  [2392000]\n  [2392000]\n  [2391000]\n  [2386000]\n  [2383000]\n  [2383000]\n  [2382000]\n  [2382000]\n  [2377000]\n  [2378000]\n  [2379000]\n  [2380000]\n  [2382000]\n  [2380000]\n  [2379000]\n  [2376000]\n  [2377000]\n  [2377000]\n  [2379000]]]\n[[[2405000]\n  [2398000]\n  [2404000]\n  [2400000]\n  [2395000]\n  [2395000]\n  [2395000]\n  [2394000]\n  [2392000]\n  [2397000]\n  [2398000]\n  [2400000]\n  [2400000]\n  [2397000]\n  [2398000]\n  [2398000]\n  [2398000]\n  [2397000]\n  [2395000]\n  [2394000]]]\n(19, 20, 1)\n"
     ]
    }
   ],
   "source": [
    "TS=np.asarray(ts)\n",
    "\n",
    "num_periods = 20\n",
    "f_horizon =1   #forcast horizon 1 period 360\n",
    "\n",
    "x_data = TS[:(len(TS)-(len(TS) % num_periods))]\n",
    "x_batches = x_data.reshape(-1,20,1)\n",
    "\n",
    "y_data = TS[1:(len(TS)-(len(TS) % num_periods))+f_horizon]\n",
    "y_batches = y_data.reshape(-1,20,1)\n",
    "\n",
    "print(len(x_batches))\n",
    "print(x_batches.shape)\n",
    "print(x_batches[0:2])\n",
    "\n",
    "print(y_batches[0:1])\n",
    "print(y_batches.shape)\n"
   ]
  },
  {
   "cell_type": "code",
   "execution_count": 13,
   "metadata": {
    "collapsed": true
   },
   "outputs": [
    {
     "name": "stdout",
     "output_type": "stream",
     "text": [
      "[[[2391000]\n  [2391000]\n  [2393000]\n  [2393000]\n  [2392000]\n  [2391000]\n  [2389000]\n  [2391000]\n  [2391000]\n  [2391000]\n  [2392000]\n  [2395000]\n  [2392000]\n  [2392000]\n  [2395000]\n  [2394000]\n  [2396000]\n  [2397000]\n  [2399000]\n  [2398000]]]\n<built-in method reshape of numpy.ndarray object at 0x000002035CD95850>\n"
     ]
    }
   ],
   "source": [
    "\n",
    "#pull out test data\n",
    "\n",
    "def test_data(series,forcast,num_periods):\n",
    "    test_x_setup = TS[-(num_periods+forcast):]\n",
    "    test_x = test_x_setup[:num_periods].reshape(-1,20,1)\n",
    "    test_y = TS[-(num_periods):].reshape(-1,20,1)\n",
    "    return test_x,test_y\n",
    "\n",
    "x_test, y_test = test_data(TS,f_horizon,num_periods)\n",
    "print(x_test)\n",
    "print(x_test.reshape)\n"
   ]
  },
  {
   "cell_type": "code",
   "execution_count": 14,
   "metadata": {
    "collapsed": true
   },
   "outputs": [],
   "source": [
    "\n",
    "\n",
    "num_periods = 20\n",
    "######################\n",
    "hidden = 100\n",
    "######################\n",
    "input = 1\n",
    "output = 1\n",
    "\n",
    "x=tf.placeholder(tf.float32,[None, num_periods, input])\n",
    "y=tf.placeholder(tf.float32,[None, num_periods, output])\n",
    "\n",
    "#create rnn object\n",
    "basic_cell = tf.contrib.rnn.BasicRNNCell(num_units=hidden, activation=tf.nn.relu)\n",
    "#Rectified Linear Unit - ReLU\n",
    "# can be changed to Sigmoid or Hyberbolic Tangent (Tanh)\n",
    "rnn_output, states=tf.nn.dynamic_rnn(basic_cell,x, dtype=tf.float32)\n",
    "\n",
    "######################################\n",
    "learning_rate=0.01  #learning rate low\n",
    "######################################\n",
    "\n",
    "stacked_rnn_output = tf.reshape(rnn_output, [-1,hidden])\n",
    "stacked_outputs = tf.layers.dense(stacked_rnn_output,output)\n",
    "outputs = tf.reshape(stacked_outputs, [-1,num_periods,output])\n",
    "\n",
    "loss = tf.reduce_sum(tf.square(outputs-y))\n",
    "optimizer=tf.train.AdamOptimizer(learning_rate=learning_rate)\n",
    "training_op=optimizer.minimize(loss)\n",
    "\n",
    "init = tf.global_variables_initializer()\n",
    "\n",
    "##########################################\n",
    "epochs = 500        #num of traing cycles\n",
    "##########################################\n"
   ]
  },
  {
   "cell_type": "code",
   "execution_count": 15,
   "metadata": {
    "collapsed": true
   },
   "outputs": [
    {
     "name": "stdout",
     "output_type": "stream",
     "text": [
      "0 \tMSE: 3290950200000000.0\n"
     ]
    },
    {
     "name": "stdout",
     "output_type": "stream",
     "text": [
      "100 \tMSE: 31647023000.0\n"
     ]
    },
    {
     "name": "stdout",
     "output_type": "stream",
     "text": [
      "200 \tMSE: 6316228600.0\n"
     ]
    },
    {
     "name": "stdout",
     "output_type": "stream",
     "text": [
      "300 \tMSE: 4567270400.0\n"
     ]
    },
    {
     "name": "stdout",
     "output_type": "stream",
     "text": [
      "400 \tMSE: 3588660700.0\n"
     ]
    },
    {
     "name": "stdout",
     "output_type": "stream",
     "text": [
      "[[[2391830. ]\n  [2391237.2]\n  [2393079.2]\n  [2392587.8]\n  [2392322.2]\n  [2390997.8]\n  [2393365. ]\n  [2395824.8]\n  [2393525.8]\n  [2390556.5]\n  [2390691.2]\n  [2392518. ]\n  [2391436. ]\n  [2391407. ]\n  [2393283. ]\n  [2393179.2]\n  [2394668.8]\n  [2395757. ]\n  [2397562.2]\n  [2397309.8]]]\n"
     ]
    }
   ],
   "source": [
    "with tf.Session() as sess:\n",
    "    init.run()\n",
    "    for ep in range(epochs):\n",
    "        sess.run(training_op,feed_dict={x:x_batches,y:y_batches})\n",
    "        if ep%100==0:\n",
    "            mse = loss.eval(feed_dict={x:x_batches,y:y_batches})\n",
    "            print(ep,'\\tMSE:',mse)\n",
    "    y_pred=sess.run(outputs,feed_dict={x: x_test})\n",
    "    print(y_pred)\n",
    "\n",
    "\n"
   ]
  },
  {
   "cell_type": "code",
   "execution_count": 16,
   "metadata": {
    "collapsed": true
   },
   "outputs": [
    {
     "data": {
      "image/png": "[encoded data removed]",
      "text/plain": [
       "<Figure size 432x288 with 1 Axes>"
      ]
     },
     "metadata": {},
     "output_type": "display_data"
    }
   ],
   "source": [
    "\n",
    "tf.reset_default_graph()\n",
    "plt.title('Forcast vs Actual', fontsize= 26)\n",
    "plt.plot(pd.Series(np.ravel(y_test)),'bo',markersize=3,label='actual')\n",
    "plt.plot(pd.Series(np.ravel(y_pred)), \"r.\", markersize=3, label=\"Forecast\")\n",
    "plt.legend(loc='upper left')\n",
    "plt.xlabel('time')\n",
    "plt.show()\n"
   ]
  }
 ],
 "metadata": {
  "kernelspec": {
   "display_name": "Python 3",
   "language": "python",
   "name": "python3"
  },
  "language_info": {
   "codemirror_mode": {
    "name": "ipython",
    "version": 3
   },
   "file_extension": ".py",
   "mimetype": "text/x-python",
   "name": "python",
   "nbconvert_exporter": "python",
   "pygments_lexer": "ipython3",
   "version": "3.5.4"
  }
 },
 "nbformat": 4,
 "nbformat_minor": 1
}
