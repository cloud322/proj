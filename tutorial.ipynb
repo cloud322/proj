{
 "cells": [
  {
   "cell_type": "code",
   "execution_count": 5,
   "metadata": {
    "collapsed": true
   },
   "outputs": [],
   "source": [
    "import sys\n"
   ]
  },
  {
   "cell_type": "code",
   "execution_count": 8,
   "metadata": {},
   "outputs": [],
   "source": [
    "import tensorflow as tf\n",
    "import pandas as pd\n",
    "import numpy as np\n",
    "import os\n",
    "import matplotlib\n",
    "import matplotlib.pyplot as plt\n",
    "import random\n",
    "%matplotlib inline\n",
    "import tensorflow as tf\n",
    "import shutil\n",
    "import tensorflow.contrib.learn as tflearn\n",
    "import tensorflow.contrib.layers as tflayers\n",
    "from tensorflow.contrib.learn.python.learn import learn_runner\n",
    "import tensorflow.contrib.metrics as metrics\n",
    "import tensorflow.contrib.rnn as rnn"
   ]
  },
  {
   "cell_type": "code",
   "execution_count": 9,
   "metadata": {},
   "outputs": [
    {
     "data": {
      "text/plain": [
       "'1.6.0'"
      ]
     },
     "execution_count": 9,
     "metadata": {},
     "output_type": "execute_result"
    }
   ],
   "source": [
    "#TF Version\n",
    "tf.__version__"
   ]
  },
  {
   "cell_type": "code",
   "execution_count": 12,
   "metadata": {},
   "outputs": [
    {
     "data": {
      "image/png": "[encoded data removed]",
      "text/plain": [
       "<Figure size 432x288 with 1 Axes>"
      ]
     },
     "metadata": {},
     "output_type": "display_data"
    },
    {
     "data": {
      "text/plain": [
       "2000-01-31    1.076620\n2000-02-29    1.694514\n2000-03-31    5.165528\n2000-04-30   -1.387576\n2000-05-31   -4.046432\n2000-06-30   -9.936538\n2000-07-31   -4.456382\n2000-08-31    2.236906\n2000-09-30    0.668546\n2000-10-31   -2.792224\nFreq: M, dtype: float64"
      ]
     },
     "execution_count": 12,
     "metadata": {},
     "output_type": "execute_result"
    }
   ],
   "source": [
    "random.seed(111)\n",
    "rng = pd.date_range(start='2000', periods=209, freq='M')\n",
    "ts = pd.Series(np.random.uniform(-10, 10, size=len(rng)), rng).cumsum()\n",
    "ts.plot(c='b', title='Example Time Series')\n",
    "plt.show()\n",
    "ts.head(10)"
   ]
  },
  {
   "cell_type": "code",
   "execution_count": 22,
   "metadata": {},
   "outputs": [
    {
     "name": "stdout",
     "output_type": "stream",
     "text": [
      "1\n(1, 200, 1)\n[[[ 1.07661981]\n  [ 1.69451424]\n  [ 5.16552807]\n  [-1.38757589]\n  [-4.04643229]\n  [-9.93653803]\n  [-4.45638236]\n  [ 2.23690645]\n  [ 0.6685456 ]\n  [-2.79222397]\n  [ 1.41607686]\n  [-2.79680603]\n  [ 6.52501364]\n  [11.66056061]\n  [15.3732239 ]\n  [21.98171924]\n  [27.97311486]\n  [29.71006806]\n  [26.31043426]\n  [29.42947618]\n  [37.36615225]\n  [36.05734782]\n  [38.45301017]\n  [44.02558732]\n  [50.74182922]\n  [59.65085363]\n  [49.78446845]\n  [46.75133067]\n  [52.76122814]\n  [45.26981392]\n  [55.00770886]\n  [45.67489203]\n  [41.53151349]\n  [40.94149463]\n  [42.1575685 ]\n  [39.7273796 ]\n  [36.04459333]\n  [28.00281706]\n  [23.5314251 ]\n  [31.05159653]\n  [28.90427247]\n  [28.03892291]\n  [25.59553648]\n  [17.12658897]\n  [10.66879311]\n  [18.51027621]\n  [20.33803054]\n  [26.50400087]\n  [21.04462518]\n  [21.61862125]\n  [15.77280097]\n  [24.70508438]\n  [20.20939219]\n  [21.23107112]\n  [18.90660534]\n  [23.02515652]\n  [21.85051873]\n  [20.37915438]\n  [28.56731409]\n  [26.10753083]\n  [26.0636434 ]\n  [33.32540599]\n  [23.72677335]\n  [30.9369004 ]\n  [36.50248917]\n  [36.88218212]\n  [33.214471  ]\n  [36.29568082]\n  [26.79966946]\n  [17.77835247]\n  [ 8.05886989]\n  [-0.37238693]\n  [-2.88889683]\n  [ 5.42784425]\n  [ 9.48702482]\n  [ 7.3986749 ]\n  [ 9.37422678]\n  [13.03909832]\n  [19.17759029]\n  [20.02675446]\n  [19.54088454]\n  [20.60862445]\n  [26.10774674]\n  [35.84106567]\n  [29.01611641]\n  [22.93167601]\n  [32.44283927]\n  [28.66716869]\n  [38.57412638]\n  [29.49971608]\n  [33.39474147]\n  [40.05376727]\n  [35.72133592]\n  [29.57636415]\n  [19.62904581]\n  [27.2256722 ]\n  [31.2900484 ]\n  [39.08952186]\n  [41.21536341]\n  [41.5509925 ]\n  [37.756511  ]\n  [31.36645615]\n  [35.3283833 ]\n  [38.58553597]\n  [40.59620606]\n  [32.58844462]\n  [30.20587189]\n  [38.36111739]\n  [35.90222603]\n  [27.31184028]\n  [24.80846252]\n  [32.23995197]\n  [35.60287346]\n  [33.57350394]\n  [42.18224083]\n  [46.11735017]\n  [38.14563886]\n  [32.46837369]\n  [22.47079214]\n  [27.7622966 ]\n  [36.68255119]\n  [37.66623521]\n  [46.79503042]\n  [55.88789819]\n  [46.23950675]\n  [52.18599759]\n  [43.2491948 ]\n  [51.36362797]\n  [45.30705153]\n  [49.60236472]\n  [40.78012289]\n  [32.97970738]\n  [29.18621767]\n  [31.58359484]\n  [29.94224651]\n  [36.5224182 ]\n  [40.11249066]\n  [47.25817977]\n  [46.80234311]\n  [40.99005963]\n  [41.54217042]\n  [50.93365129]\n  [50.33561521]\n  [51.63391041]\n  [56.51546515]\n  [61.07105733]\n  [61.91604501]\n  [65.98514723]\n  [67.02692773]\n  [74.18333899]\n  [73.51457532]\n  [65.16900115]\n  [58.58518204]\n  [52.03802287]\n  [59.12274185]\n  [63.91636387]\n  [56.55059636]\n  [61.75466321]\n  [60.54957651]\n  [66.37546245]\n  [66.69090991]\n  [61.27706628]\n  [55.80559344]\n  [64.73249465]\n  [71.42703681]\n  [63.66425162]\n  [59.55052209]\n  [51.8796013 ]\n  [51.01055161]\n  [53.51996912]\n  [51.45780886]\n  [48.07364184]\n  [56.83773385]\n  [63.56593059]\n  [58.33090058]\n  [51.81496398]\n  [59.00342203]\n  [54.14381257]\n  [46.01900614]\n  [49.1837179 ]\n  [44.30589571]\n  [41.02918165]\n  [41.12462894]\n  [31.17949175]\n  [29.1432009 ]\n  [35.27537618]\n  [36.8817631 ]\n  [31.7465316 ]\n  [41.6140918 ]\n  [47.571744  ]\n  [55.73919909]\n  [55.376203  ]\n  [59.1664596 ]\n  [60.90782993]\n  [69.3778488 ]\n  [75.85764683]\n  [85.46499963]\n  [91.48242666]\n  [88.06550717]\n  [90.46589703]]]\n[[[ 1.69451424]\n  [ 5.16552807]\n  [-1.38757589]\n  [-4.04643229]\n  [-9.93653803]\n  [-4.45638236]\n  [ 2.23690645]\n  [ 0.6685456 ]\n  [-2.79222397]\n  [ 1.41607686]\n  [-2.79680603]\n  [ 6.52501364]\n  [11.66056061]\n  [15.3732239 ]\n  [21.98171924]\n  [27.97311486]\n  [29.71006806]\n  [26.31043426]\n  [29.42947618]\n  [37.36615225]\n  [36.05734782]\n  [38.45301017]\n  [44.02558732]\n  [50.74182922]\n  [59.65085363]\n  [49.78446845]\n  [46.75133067]\n  [52.76122814]\n  [45.26981392]\n  [55.00770886]\n  [45.67489203]\n  [41.53151349]\n  [40.94149463]\n  [42.1575685 ]\n  [39.7273796 ]\n  [36.04459333]\n  [28.00281706]\n  [23.5314251 ]\n  [31.05159653]\n  [28.90427247]\n  [28.03892291]\n  [25.59553648]\n  [17.12658897]\n  [10.66879311]\n  [18.51027621]\n  [20.33803054]\n  [26.50400087]\n  [21.04462518]\n  [21.61862125]\n  [15.77280097]\n  [24.70508438]\n  [20.20939219]\n  [21.23107112]\n  [18.90660534]\n  [23.02515652]\n  [21.85051873]\n  [20.37915438]\n  [28.56731409]\n  [26.10753083]\n  [26.0636434 ]\n  [33.32540599]\n  [23.72677335]\n  [30.9369004 ]\n  [36.50248917]\n  [36.88218212]\n  [33.214471  ]\n  [36.29568082]\n  [26.79966946]\n  [17.77835247]\n  [ 8.05886989]\n  [-0.37238693]\n  [-2.88889683]\n  [ 5.42784425]\n  [ 9.48702482]\n  [ 7.3986749 ]\n  [ 9.37422678]\n  [13.03909832]\n  [19.17759029]\n  [20.02675446]\n  [19.54088454]\n  [20.60862445]\n  [26.10774674]\n  [35.84106567]\n  [29.01611641]\n  [22.93167601]\n  [32.44283927]\n  [28.66716869]\n  [38.57412638]\n  [29.49971608]\n  [33.39474147]\n  [40.05376727]\n  [35.72133592]\n  [29.57636415]\n  [19.62904581]\n  [27.2256722 ]\n  [31.2900484 ]\n  [39.08952186]\n  [41.21536341]\n  [41.5509925 ]\n  [37.756511  ]\n  [31.36645615]\n  [35.3283833 ]\n  [38.58553597]\n  [40.59620606]\n  [32.58844462]\n  [30.20587189]\n  [38.36111739]\n  [35.90222603]\n  [27.31184028]\n  [24.80846252]\n  [32.23995197]\n  [35.60287346]\n  [33.57350394]\n  [42.18224083]\n  [46.11735017]\n  [38.14563886]\n  [32.46837369]\n  [22.47079214]\n  [27.7622966 ]\n  [36.68255119]\n  [37.66623521]\n  [46.79503042]\n  [55.88789819]\n  [46.23950675]\n  [52.18599759]\n  [43.2491948 ]\n  [51.36362797]\n  [45.30705153]\n  [49.60236472]\n  [40.78012289]\n  [32.97970738]\n  [29.18621767]\n  [31.58359484]\n  [29.94224651]\n  [36.5224182 ]\n  [40.11249066]\n  [47.25817977]\n  [46.80234311]\n  [40.99005963]\n  [41.54217042]\n  [50.93365129]\n  [50.33561521]\n  [51.63391041]\n  [56.51546515]\n  [61.07105733]\n  [61.91604501]\n  [65.98514723]\n  [67.02692773]\n  [74.18333899]\n  [73.51457532]\n  [65.16900115]\n  [58.58518204]\n  [52.03802287]\n  [59.12274185]\n  [63.91636387]\n  [56.55059636]\n  [61.75466321]\n  [60.54957651]\n  [66.37546245]\n  [66.69090991]\n  [61.27706628]\n  [55.80559344]\n  [64.73249465]\n  [71.42703681]\n  [63.66425162]\n  [59.55052209]\n  [51.8796013 ]\n  [51.01055161]\n  [53.51996912]\n  [51.45780886]\n  [48.07364184]\n  [56.83773385]\n  [63.56593059]\n  [58.33090058]\n  [51.81496398]\n  [59.00342203]\n  [54.14381257]\n  [46.01900614]\n  [49.1837179 ]\n  [44.30589571]\n  [41.02918165]\n  [41.12462894]\n  [31.17949175]\n  [29.1432009 ]\n  [35.27537618]\n  [36.8817631 ]\n  [31.7465316 ]\n  [41.6140918 ]\n  [47.571744  ]\n  [55.73919909]\n  [55.376203  ]\n  [59.1664596 ]\n  [60.90782993]\n  [69.3778488 ]\n  [75.85764683]\n  [85.46499963]\n  [91.48242666]\n  [88.06550717]\n  [90.46589703]\n  [93.55089349]]]\n(1, 200, 1)\n"
     ]
    }
   ],
   "source": [
    "TS = np.array(ts)\n",
    "num_periods = 200\n",
    "f_horizon = 1  #forecast horizon, one period into the future\n",
    "\n",
    "x_data = TS[:(len(TS)-(len(TS) % num_periods))]\n",
    "x_batches = x_data.reshape(-1, 200, 1)\n",
    "\n",
    "y_data = TS[1:(len(TS)-(len(TS) % num_periods))+f_horizon]\n",
    "y_batches = y_data.reshape(-1, 200, 1)\n",
    "print (len(x_batches))\n",
    "print (x_batches.shape)\n",
    "print (x_batches[0:2])\n",
    "\n",
    "print (y_batches[0:1])\n",
    "print (y_batches.shape)"
   ]
  },
  {
   "cell_type": "code",
   "execution_count": 24,
   "metadata": {},
   "outputs": [
    {
     "name": "stdout",
     "output_type": "stream",
     "text": [
      "(1, 200, 1)\n[[[ 0.6685456 ]\n  [-2.79222397]\n  [ 1.41607686]\n  [-2.79680603]\n  [ 6.52501364]\n  [11.66056061]\n  [15.3732239 ]\n  [21.98171924]\n  [27.97311486]\n  [29.71006806]\n  [26.31043426]\n  [29.42947618]\n  [37.36615225]\n  [36.05734782]\n  [38.45301017]\n  [44.02558732]\n  [50.74182922]\n  [59.65085363]\n  [49.78446845]\n  [46.75133067]\n  [52.76122814]\n  [45.26981392]\n  [55.00770886]\n  [45.67489203]\n  [41.53151349]\n  [40.94149463]\n  [42.1575685 ]\n  [39.7273796 ]\n  [36.04459333]\n  [28.00281706]\n  [23.5314251 ]\n  [31.05159653]\n  [28.90427247]\n  [28.03892291]\n  [25.59553648]\n  [17.12658897]\n  [10.66879311]\n  [18.51027621]\n  [20.33803054]\n  [26.50400087]\n  [21.04462518]\n  [21.61862125]\n  [15.77280097]\n  [24.70508438]\n  [20.20939219]\n  [21.23107112]\n  [18.90660534]\n  [23.02515652]\n  [21.85051873]\n  [20.37915438]\n  [28.56731409]\n  [26.10753083]\n  [26.0636434 ]\n  [33.32540599]\n  [23.72677335]\n  [30.9369004 ]\n  [36.50248917]\n  [36.88218212]\n  [33.214471  ]\n  [36.29568082]\n  [26.79966946]\n  [17.77835247]\n  [ 8.05886989]\n  [-0.37238693]\n  [-2.88889683]\n  [ 5.42784425]\n  [ 9.48702482]\n  [ 7.3986749 ]\n  [ 9.37422678]\n  [13.03909832]\n  [19.17759029]\n  [20.02675446]\n  [19.54088454]\n  [20.60862445]\n  [26.10774674]\n  [35.84106567]\n  [29.01611641]\n  [22.93167601]\n  [32.44283927]\n  [28.66716869]\n  [38.57412638]\n  [29.49971608]\n  [33.39474147]\n  [40.05376727]\n  [35.72133592]\n  [29.57636415]\n  [19.62904581]\n  [27.2256722 ]\n  [31.2900484 ]\n  [39.08952186]\n  [41.21536341]\n  [41.5509925 ]\n  [37.756511  ]\n  [31.36645615]\n  [35.3283833 ]\n  [38.58553597]\n  [40.59620606]\n  [32.58844462]\n  [30.20587189]\n  [38.36111739]\n  [35.90222603]\n  [27.31184028]\n  [24.80846252]\n  [32.23995197]\n  [35.60287346]\n  [33.57350394]\n  [42.18224083]\n  [46.11735017]\n  [38.14563886]\n  [32.46837369]\n  [22.47079214]\n  [27.7622966 ]\n  [36.68255119]\n  [37.66623521]\n  [46.79503042]\n  [55.88789819]\n  [46.23950675]\n  [52.18599759]\n  [43.2491948 ]\n  [51.36362797]\n  [45.30705153]\n  [49.60236472]\n  [40.78012289]\n  [32.97970738]\n  [29.18621767]\n  [31.58359484]\n  [29.94224651]\n  [36.5224182 ]\n  [40.11249066]\n  [47.25817977]\n  [46.80234311]\n  [40.99005963]\n  [41.54217042]\n  [50.93365129]\n  [50.33561521]\n  [51.63391041]\n  [56.51546515]\n  [61.07105733]\n  [61.91604501]\n  [65.98514723]\n  [67.02692773]\n  [74.18333899]\n  [73.51457532]\n  [65.16900115]\n  [58.58518204]\n  [52.03802287]\n  [59.12274185]\n  [63.91636387]\n  [56.55059636]\n  [61.75466321]\n  [60.54957651]\n  [66.37546245]\n  [66.69090991]\n  [61.27706628]\n  [55.80559344]\n  [64.73249465]\n  [71.42703681]\n  [63.66425162]\n  [59.55052209]\n  [51.8796013 ]\n  [51.01055161]\n  [53.51996912]\n  [51.45780886]\n  [48.07364184]\n  [56.83773385]\n  [63.56593059]\n  [58.33090058]\n  [51.81496398]\n  [59.00342203]\n  [54.14381257]\n  [46.01900614]\n  [49.1837179 ]\n  [44.30589571]\n  [41.02918165]\n  [41.12462894]\n  [31.17949175]\n  [29.1432009 ]\n  [35.27537618]\n  [36.8817631 ]\n  [31.7465316 ]\n  [41.6140918 ]\n  [47.571744  ]\n  [55.73919909]\n  [55.376203  ]\n  [59.1664596 ]\n  [60.90782993]\n  [69.3778488 ]\n  [75.85764683]\n  [85.46499963]\n  [91.48242666]\n  [88.06550717]\n  [90.46589703]\n  [93.55089349]\n  [99.7929536 ]\n  [92.54946631]\n  [91.95946666]\n  [93.18091747]\n  [93.86375684]\n  [84.45827961]\n  [89.13242966]]]\n"
     ]
    }
   ],
   "source": [
    "def test_data(series,forecast,num_periods):\n",
    "    test_x_setup = TS[-(num_periods + forecast):]\n",
    "    testX = test_x_setup[:num_periods].reshape(-1, 200, 1)\n",
    "    testY = TS[-(num_periods):].reshape(-1, 200, 1)\n",
    "    return testX,testY\n",
    "\n",
    "X_test, Y_test = test_data(TS,f_horizon,num_periods )\n",
    "print (X_test.shape)\n",
    "print (X_test)"
   ]
  },
  {
   "cell_type": "code",
   "execution_count": 25,
   "metadata": {},
   "outputs": [],
   "source": [
    "tf.reset_default_graph()   #We didn't have any previous graph objects running, but this would reset the graphs\n",
    "\n",
    "num_periods = 200      #number of periods per vector we are using to predict one period ahead\n",
    "inputs = 1            #number of vectors submitted\n",
    "hidden = 100          #number of neurons we will recursively work through, can be changed to improve accuracy\n",
    "output = 1            #number of output vectors\n",
    "\n",
    "X = tf.placeholder(tf.float32, [None, num_periods, inputs])   #create variable objects\n",
    "y = tf.placeholder(tf.float32, [None, num_periods, output])\n",
    "\n",
    "\n",
    "basic_cell = tf.contrib.rnn.BasicRNNCell(num_units=hidden, activation=tf.nn.relu)   #create our RNN object\n",
    "rnn_output, states = tf.nn.dynamic_rnn(basic_cell, X, dtype=tf.float32)               #choose dynamic over static\n",
    "\n",
    "learning_rate = 0.001   #small learning rate so we don't overshoot the minimum\n",
    "\n",
    "stacked_rnn_output = tf.reshape(rnn_output, [-1, hidden])           #change the form into a tensor\n",
    "stacked_outputs = tf.layers.dense(stacked_rnn_output, output)        #specify the type of layer (dense)\n",
    "outputs = tf.reshape(stacked_outputs, [-1, num_periods, output])          #shape of results\n",
    " \n",
    "loss = tf.reduce_sum(tf.square(outputs - y))    #define the cost function which evaluates the quality of our model\n",
    "optimizer = tf.train.AdamOptimizer(learning_rate=learning_rate)          #gradient descent method\n",
    "training_op = optimizer.minimize(loss)          #train the result of the application of the cost_function                                 \n",
    "\n",
    "init = tf.global_variables_initializer() "
   ]
  },
  {
   "cell_type": "code",
   "execution_count": 26,
   "metadata": {},
   "outputs": [
    {
     "name": "stdout",
     "output_type": "stream",
     "text": [
      "0 \tMSE: 220892.3\n"
     ]
    },
    {
     "name": "stdout",
     "output_type": "stream",
     "text": [
      "100 \tMSE: 6711.59\n"
     ]
    },
    {
     "name": "stdout",
     "output_type": "stream",
     "text": [
      "200 \tMSE: 5184.1606\n"
     ]
    },
    {
     "name": "stdout",
     "output_type": "stream",
     "text": [
      "300 \tMSE: 4063.9307\n"
     ]
    },
    {
     "name": "stdout",
     "output_type": "stream",
     "text": [
      "400 \tMSE: 2960.9556\n"
     ]
    },
    {
     "name": "stdout",
     "output_type": "stream",
     "text": [
      "500 \tMSE: 1711.501\n"
     ]
    },
    {
     "name": "stdout",
     "output_type": "stream",
     "text": [
      "600 \tMSE: 1147.0695\n"
     ]
    },
    {
     "name": "stdout",
     "output_type": "stream",
     "text": [
      "700 \tMSE: 749.457\n"
     ]
    },
    {
     "name": "stdout",
     "output_type": "stream",
     "text": [
      "800 \tMSE: 459.23093\n"
     ]
    },
    {
     "name": "stdout",
     "output_type": "stream",
     "text": [
      "900 \tMSE: 665.46265\n"
     ]
    },
    {
     "name": "stdout",
     "output_type": "stream",
     "text": [
      "[[[  0.6464789]\n  [ -2.5094302]\n  [  0.3752185]\n  [ -2.9249003]\n  [  5.610011 ]\n  [ 10.074859 ]\n  [ 12.684781 ]\n  [ 18.803822 ]\n  [ 24.545975 ]\n  [ 29.713007 ]\n  [ 30.324959 ]\n  [ 31.575945 ]\n  [ 39.592667 ]\n  [ 41.381382 ]\n  [ 41.55916  ]\n  [ 47.30246  ]\n  [ 51.798985 ]\n  [ 58.867615 ]\n  [ 53.05945  ]\n  [ 48.139755 ]\n  [ 47.43     ]\n  [ 48.534424 ]\n  [ 48.75782  ]\n  [ 44.212173 ]\n  [ 48.799988 ]\n  [ 45.26469  ]\n  [ 38.76784  ]\n  [ 33.091927 ]\n  [ 29.432457 ]\n  [ 25.829058 ]\n  [ 26.966515 ]\n  [ 31.35743  ]\n  [ 32.31931  ]\n  [ 32.53016  ]\n  [ 21.522175 ]\n  [ 10.773455 ]\n  [ 17.901573 ]\n  [ 24.220753 ]\n  [ 26.84823  ]\n  [ 22.779741 ]\n  [ 21.911074 ]\n  [ 12.069411 ]\n  [ 26.466282 ]\n  [ 20.707106 ]\n  [ 20.753555 ]\n  [ 15.145437 ]\n  [ 19.836882 ]\n  [ 29.761055 ]\n  [ 24.134464 ]\n  [ 23.1833   ]\n  [ 25.35814  ]\n  [ 27.13451  ]\n  [ 27.67136  ]\n  [ 26.242838 ]\n  [ 25.758087 ]\n  [ 35.34578  ]\n  [ 33.20404  ]\n  [ 33.338005 ]\n  [ 31.616274 ]\n  [ 30.164068 ]\n  [ 25.935768 ]\n  [ 15.2327   ]\n  [  5.039495 ]\n  [ -6.912193 ]\n  [  4.0719247]\n  [  7.5081253]\n  [ 10.637104 ]\n  [  8.113994 ]\n  [ 13.34669  ]\n  [ 19.4621   ]\n  [ 18.879755 ]\n  [ 18.051592 ]\n  [ 20.970547 ]\n  [ 26.229458 ]\n  [ 35.74223  ]\n  [ 29.308653 ]\n  [ 23.879957 ]\n  [ 31.546394 ]\n  [ 27.577358 ]\n  [ 38.4756   ]\n  [ 31.184462 ]\n  [ 35.025387 ]\n  [ 39.920364 ]\n  [ 34.21912  ]\n  [ 30.573315 ]\n  [ 19.127918 ]\n  [ 26.62846  ]\n  [ 32.51162  ]\n  [ 38.575836 ]\n  [ 42.45045  ]\n  [ 43.11235  ]\n  [ 39.154293 ]\n  [ 34.054543 ]\n  [ 32.812927 ]\n  [ 36.183735 ]\n  [ 38.719173 ]\n  [ 36.662273 ]\n  [ 36.25418  ]\n  [ 43.656483 ]\n  [ 33.760376 ]\n  [ 24.78038  ]\n  [ 23.912872 ]\n  [ 33.523003 ]\n  [ 36.280277 ]\n  [ 41.594696 ]\n  [ 47.503742 ]\n  [ 42.67344  ]\n  [ 39.38659  ]\n  [ 33.614063 ]\n  [ 30.206264 ]\n  [ 26.952065 ]\n  [ 34.173203 ]\n  [ 38.8535   ]\n  [ 48.291336 ]\n  [ 56.301365 ]\n  [ 45.657852 ]\n  [ 52.461315 ]\n  [ 46.56322  ]\n  [ 51.589035 ]\n  [ 45.24831  ]\n  [ 49.925785 ]\n  [ 41.513588 ]\n  [ 37.33456  ]\n  [ 30.88797  ]\n  [ 32.717712 ]\n  [ 31.98852  ]\n  [ 37.084145 ]\n  [ 40.656975 ]\n  [ 48.244946 ]\n  [ 47.85949  ]\n  [ 43.335907 ]\n  [ 42.71722  ]\n  [ 51.38674  ]\n  [ 52.814728 ]\n  [ 49.22088  ]\n  [ 55.072132 ]\n  [ 60.000977 ]\n  [ 62.212097 ]\n  [ 64.272545 ]\n  [ 67.32846  ]\n  [ 72.505615 ]\n  [ 72.96919  ]\n  [ 66.69502  ]\n  [ 58.034927 ]\n  [ 56.423256 ]\n  [ 61.33936  ]\n  [ 65.26792  ]\n  [ 60.89697  ]\n  [ 64.74929  ]\n  [ 61.44699  ]\n  [ 66.075676 ]\n  [ 64.26206  ]\n  [ 58.64515  ]\n  [ 55.8951   ]\n  [ 66.04171  ]\n  [ 74.583755 ]\n  [ 66.69252  ]\n  [ 61.166695 ]\n  [ 51.88773  ]\n  [ 50.404102 ]\n  [ 55.85752  ]\n  [ 57.3313   ]\n  [ 50.42054  ]\n  [ 60.92064  ]\n  [ 62.650654 ]\n  [ 57.716476 ]\n  [ 54.13552  ]\n  [ 63.645294 ]\n  [ 58.69808  ]\n  [ 46.13495  ]\n  [ 54.52427  ]\n  [ 45.636005 ]\n  [ 40.241077 ]\n  [ 38.6692   ]\n  [ 31.108047 ]\n  [ 28.459347 ]\n  [ 35.662056 ]\n  [ 36.091633 ]\n  [ 39.521107 ]\n  [ 41.9797   ]\n  [ 45.539013 ]\n  [ 52.716667 ]\n  [ 55.29419  ]\n  [ 58.660065 ]\n  [ 58.144848 ]\n  [ 68.73828  ]\n  [ 76.47189  ]\n  [ 85.51728  ]\n  [ 93.40409  ]\n  [ 92.28968  ]\n  [ 93.066124 ]\n  [ 94.17236  ]\n  [ 96.185295 ]\n  [ 96.9176   ]\n  [ 79.01032  ]\n  [ 84.45619  ]\n  [ 94.60937  ]\n  [107.65624  ]\n  [ 87.351906 ]\n  [ 87.81296  ]]]\n"
     ]
    }
   ],
   "source": [
    "epochs = 1000     #number of iterations or training cycles, includes both the FeedFoward and Backpropogation\n",
    "\n",
    "with tf.Session() as sess:\n",
    "    init.run()\n",
    "    for ep in range(epochs):\n",
    "        sess.run(training_op, feed_dict={X: x_batches, y: y_batches})\n",
    "        if ep % 100 == 0:\n",
    "            mse = loss.eval(feed_dict={X: x_batches, y: y_batches})\n",
    "            print(ep, \"\\tMSE:\", mse)\n",
    "    \n",
    "    y_pred = sess.run(outputs, feed_dict={X: X_test})\n",
    "    print(y_pred)"
   ]
  },
  {
   "cell_type": "code",
   "execution_count": 31,
   "metadata": {
    "collapsed": false
   },
   "outputs": [
    {
     "data": {
      "image/png": "[encoded data removed]",
      "text/plain": [
       "<Figure size 432x288 with 1 Axes>"
      ]
     },
     "metadata": {},
     "output_type": "display_data"
    }
   ],
   "source": [
    "plt.title(\"Forecast vs Actual\", fontsize=14)\n",
    "plt.plot(pd.Series(np.ravel(Y_test)), \"bo\", markersize=3, label=\"Actual\")\n",
    "#plt.plot(pd.Series(np.ravel(Y_test)), \"w*\", markersize=10)\n",
    "plt.plot(pd.Series(np.ravel(y_pred)), \"r.\", markersize=3, label=\"Forecast\")\n",
    "plt.legend(loc=\"upper left\")\n",
    "plt.xlabel(\"Time Periods\")\n",
    "\n",
    "plt.show()"
   ]
  }
 ],
 "metadata": {
  "kernelspec": {
   "display_name": "Python 2",
   "language": "python",
   "name": "python2"
  },
  "language_info": {
   "codemirror_mode": {
    "name": "ipython",
    "version": 2
   },
   "file_extension": ".py",
   "mimetype": "text/x-python",
   "name": "python",
   "nbconvert_exporter": "python",
   "pygments_lexer": "ipython2",
   "version": "2.7.6"
  }
 },
 "nbformat": 4,
 "nbformat_minor": 0
}
