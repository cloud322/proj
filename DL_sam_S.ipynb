{
 "cells": [
  {
   "cell_type": "code",
   "execution_count": null,
   "metadata": {
    "collapsed": true
   },
   "outputs": [],
   "source": [
    "import sys\n",
    "import tensorflow as tf\n",
    "import pandas as pd\n",
    "import numpy as np\n",
    "import os\n",
    "import matplotlib\n",
    "import matplotlib.pyplot as plt\n",
    "import random\n",
    "%matplotlib inline\n",
    "import tensorflow as tf\n",
    "import tensorflow.contrib.learn as tflearn\n",
    "import tensorflow.contrib.layers as tflayers\n",
    "from tensorflow.contrib.learn import learn_runner\n",
    "import tensorflow.contrib.metrics as metrics\n",
    "import tensorflow.contrib.rnn as rnn\n",
    "tf.__version__\n"
   ]
  },
  {
   "cell_type": "code",
   "execution_count": null,
   "metadata": {
    "collapsed": true
   },
   "outputs": [],
   "source": [
    "df_0403_s= pd.read_csv('data/0403_samsung_sec_U.csv',header=0)\n",
    "                # names=['date','a','stock','time','price','pr_ch','vol_ch','vol'])\n",
    "print(df_0403_s.head())\n",
    "sam_0403_s = df_0403_s.query('stock==\"삼성전자\"')\n",
    "sort_0403_s=sam_0403_s.sort_values(by=['date','price'])\n",
    "partcol_0403_s =sam_0403_s[['date','price']]\n"
   ]
  },
  {
   "cell_type": "code",
   "execution_count": null,
   "metadata": {
    "collapsed": true
   },
   "outputs": [],
   "source": [
    "# query\n",
    "partcol_0403_s_09 = partcol_0403_s.query('date>=\"2018-04-03 09:00:00\" & date<=\"2018-04-03 15:21:00\"')\n",
    "print(partcol_0403_s_09.head())"
   ]
  },
  {
   "cell_type": "code",
   "execution_count": null,
   "metadata": {
    "collapsed": true
   },
   "outputs": [],
   "source": [
    "#plot\n",
    "partcol_0403_s_09.plot(x='date',y='price',title = 'samsung')\n",
    "plt.show()\n"
   ]
  },
  {
   "cell_type": "code",
   "execution_count": 13,
   "metadata": {
    "collapsed": true
   },
   "outputs": [],
   "source": [
    "\n",
    "print(len(partcol_0403_s_09))\n",
    "ts =pd.Series(partcol_0403_s_09['price'].values, index=partcol_0403_s_09['date'])\n",
    "print(ts)"
   ]
  },
  {
   "cell_type": "code",
   "execution_count": null,
   "metadata": {
    "collapsed": true
   },
   "outputs": [
    {
     "name": "stdout",
     "output_type": "stream",
     "text": [
      "100 \tMSE: nan\n"
     ]
    }
   ],
   "source": [
    "TS=np.asarray(ts)\n",
    "\n",
    "num_periods = 200\n",
    "f_horizon =1   #forcast horizon 1 period 360\n",
    "\n",
    "x_data = TS[:(len(TS)-(len(TS) % num_periods))]\n",
    "x_batches = x_data.reshape(-1,200,1)\n",
    "\n",
    "y_data = TS[1:(len(TS)-(len(TS) % num_periods))+f_horizon]\n",
    "y_batches = y_data.reshape(-1,200,1)\n",
    "\n",
    "print(len(x_batches))\n",
    "print(x_batches.shape)\n",
    "print(x_batches[0:2])\n",
    "\n",
    "print(y_batches[0:1])\n",
    "print(y_batches.shape)\n"
   ]
  },
  {
   "cell_type": "code",
   "execution_count": null,
   "metadata": {
    "collapsed": true
   },
   "outputs": [
    {
     "name": "stdout",
     "output_type": "stream",
     "text": [
      "100 \tMSE: nan\n"
     ]
    }
   ],
   "source": [
    "\n",
    "#pull out test data\n",
    "\n",
    "def test_data(series,forcast,num_periods):\n",
    "    test_x_setup = TS[-(num_periods+forcast):]\n",
    "    test_x = test_x_setup[:num_periods].reshape(-1,200,1)\n",
    "    test_y = TS[-(num_periods):].reshape(-1,200,1)\n",
    "    return test_x,test_y\n",
    "\n",
    "x_test, y_test = test_data(TS,f_horizon,num_periods)\n",
    "print(x_test)\n",
    "print(x_test.reshape)\n"
   ]
  },
  {
   "cell_type": "code",
   "execution_count": null,
   "metadata": {
    "collapsed": true
   },
   "outputs": [
    {
     "name": "stdout",
     "output_type": "stream",
     "text": [
      "100 \tMSE: nan\n"
     ]
    }
   ],
   "source": [
    "\n",
    "\n",
    "num_periods = 200\n",
    "######################\n",
    "hidden = 100\n",
    "######################\n",
    "input = 1\n",
    "output = 1\n",
    "\n",
    "x=tf.placeholder(tf.float32,[None, num_periods, input])\n",
    "y=tf.placeholder(tf.float32,[None, num_periods, output])\n",
    "\n",
    "#create rnn object\n",
    "basic_cell = tf.contrib.rnn.BasicRNNCell(num_units=hidden, activation=tf.nn.relu)\n",
    "#Rectified Linear Unit - ReLU\n",
    "# can be changed to Sigmoid or Hyberbolic Tangent (Tanh)\n",
    "rnn_output, states=tf.nn.dynamic_rnn(basic_cell,x, dtype=tf.float32)\n",
    "\n",
    "######################################\n",
    "learning_rate=0.01  #learning rate low\n",
    "######################################\n",
    "\n",
    "stacked_rnn_output = tf.reshape(rnn_output, [-1,hidden])\n",
    "stacked_outputs = tf.layers.dense(stacked_rnn_output,output)\n",
    "outputs = tf.reshape(stacked_outputs, [-1,num_periods,output])\n",
    "\n",
    "loss = tf.reduce_sum(tf.square(outputs-y))\n",
    "optimizer=tf.train.AdamOptimizer(learning_rate=learning_rate)\n",
    "training_op=optimizer.minimize(loss)\n",
    "\n",
    "init = tf.global_variables_initializer()\n",
    "\n",
    "##########################################\n",
    "epochs = 500        #num of traing cycles\n",
    "##########################################\n"
   ]
  },
  {
   "cell_type": "code",
   "execution_count": 17,
   "metadata": {
    "collapsed": true
   },
   "outputs": [
    {
     "name": "stdout",
     "output_type": "stream",
     "text": [
      "100 \tMSE: nan\n"
     ]
    }
   ],
   "source": [
    "with tf.Session() as sess:\n",
    "    init.run()\n",
    "    for ep in range(epochs):\n",
    "        sess.run(training_op,feed_dict={x:x_batches,y:y_batches})\n",
    "        if ep%100==0:\n",
    "            mse = loss.eval(feed_dict={x:x_batches,y:y_batches})\n",
    "            print(ep,'\\tMSE:',mse)\n",
    "    y_pred=sess.run(outputs,feed_dict={x: x_test})\n",
    "    print(y_pred)\n",
    "\n",
    "\n"
   ]
  },
  {
   "cell_type": "code",
   "execution_count": null,
   "metadata": {
    "collapsed": true
   },
   "outputs": [
    {
     "name": "stdout",
     "output_type": "stream",
     "text": [
      "100 \tMSE: nan\n"
     ]
    }
   ],
   "source": [
    "\n",
    "tf.reset_default_graph()\n",
    "plt.title('Forcast vs Actual', fontsize= 26)\n",
    "plt.plot(pd.Series(np.ravel(y_test)),'bo',markersize=3,label='actual')\n",
    "plt.plot(pd.Series(np.ravel(y_pred)), \"r.\", markersize=3, label=\"Forecast\")\n",
    "plt.legend(loc='upper left')\n",
    "plt.xlabel('time')\n",
    "plt.show()\n"
   ]
  }
 ],
 "metadata": {
  "kernelspec": {
   "display_name": "Python 2",
   "language": "python",
   "name": "python2"
  },
  "language_info": {
   "codemirror_mode": {
    "name": "ipython",
    "version": 2
   },
   "file_extension": ".py",
   "mimetype": "text/x-python",
   "name": "python",
   "nbconvert_exporter": "python",
   "pygments_lexer": "ipython2",
   "version": "2.7.6"
  }
 },
 "nbformat": 4,
 "nbformat_minor": 0
}
